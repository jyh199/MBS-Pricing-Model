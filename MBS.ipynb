{
 "cells": [
  {
   "cell_type": "code",
   "execution_count": 3,
   "id": "b6f839f8",
   "metadata": {},
   "outputs": [],
   "source": [
    "import numpy as np\n",
    "import pandas as pd"
   ]
  },
  {
   "cell_type": "code",
   "execution_count": 4,
   "id": "7a9c3d86",
   "metadata": {},
   "outputs": [],
   "source": [
    "# CIR model\n",
    "def CIR(dt,T,r0,sigma,k,mean_r):\n",
    "    r = []\n",
    "    r.append(r0)\n",
    "    n = int(round(T/dt))\n",
    "    w = np.random.normal(0,1,n)\n",
    "    for i in range(0,n):\n",
    "        if r[i] >= 0 :\n",
    "            ri = r[i] + k*(mean_r-r[i])*dt + sigma*np.sqrt(dt*r[i])*w[i]\n",
    "        else:\n",
    "            ri = r[i] + k*(mean_r-r[i])*dt # in case negative r pump out\n",
    "        r.append(ri)\n",
    "    return r"
   ]
  },
  {
   "cell_type": "code",
   "execution_count": 5,
   "id": "8a2ce4e0",
   "metadata": {},
   "outputs": [],
   "source": [
    "# Numerix Prepayment Model\n",
    "def NumerixPrepayment(R,pre_r10,pre_PV,PV0,t,month):\n",
    "    month = int(month)\n",
    "    RIt = 0.28 + 0.14*np.arctan(-8.57+430*(R-pre_r10))\n",
    "    BUt = 0.3 + 0.7*(pre_PV/PV0)\n",
    "    SGt = min(1,t/30)\n",
    "    SYt = [0.94,0.76,0.74,0.95,0.98,0.92,0.98,1.10,1.18,1.22,1.23,0.98][month-1]\n",
    "    CPRt = RIt * BUt * SGt * SYt\n",
    "    return CPRt"
   ]
  },
  {
   "cell_type": "code",
   "execution_count": 6,
   "id": "3f478aa6",
   "metadata": {},
   "outputs": [],
   "source": [
    "def MBS_Price(dt,T,r0,sigma,k,mean_r,R,PV0,M,OAS):\n",
    "    \n",
    "    p = []\n",
    "    IO = []\n",
    "    PO = []\n",
    "    \n",
    "    for m in tqdm(range(0,M)):\n",
    "        \n",
    "        rf = CIR(dt,T,r0,sigma,k,mean_r) # simulate rf \n",
    "        Rf = (pd.Series(rf)+OAS).cumsum()*dt # discount rate\n",
    "        n_m = int(round((1/12)/dt)) # how many dt in one month\n",
    "        r_m = R/12 # mortgage rate per month\n",
    "        N = T*12\n",
    "        PV = []\n",
    "        PV.append(PV0)\n",
    "        Ct = []\n",
    "        disc_rate = []\n",
    "        IOt = []\n",
    "        POt = []\n",
    "        \n",
    "        # Parameters of CIR model\n",
    "        h1 = np.sqrt(k**2+2*sigma**2)\n",
    "        h2 = (k+h1)/2\n",
    "        h3 = 2*k*mean_r/(sigma**2)\n",
    "        At = ((h1*np.exp(h2*10))/(h2*(np.exp(h1*10)-1)+h1)) ** h3\n",
    "        Bt = (np.exp(h1*10)-1)/(h2*(np.exp(h1*10)-1)+h1)\n",
    "        \n",
    "        for t in range(1,N+1):\n",
    "            \n",
    "            # find the month at t\n",
    "            if t % 12 == 0:\n",
    "                month = 12\n",
    "            else:\n",
    "                month = t % 12\n",
    "            \n",
    "            t_yr = t/12 # t in yr unit\n",
    "            P_bond = At * np.exp(-Bt*rf[n_m*(t-1)]) # price of 10yr bond\n",
    "            pre_r10 = (-1/10) * np.log(P_bond) # 10 yr risk-free rate\n",
    "            CPRt = NumerixPrepayment(R,pre_r10,PV[t-1],PV0,t_yr,month) \n",
    "            \n",
    "            PMTt = (PV[t-1] * r_m) / (1-1/((1+r_m)**(N-(t-1)))) # PMT\n",
    "            IPt = PV[t-1] * r_m # interest payment\n",
    "            SPt = PMTt - IPt # scheduled pricipal payment\n",
    "            PPt = (PV[t-1]-SPt) * (1-(1-CPRt)**(1/12)) # prepayment\n",
    "            \n",
    "            PV.append(PV[t-1]-SPt-PPt) # PVt\n",
    "            Ct.append(SPt+PPt+IPt) # cash flow\n",
    "            IOt.append(IPt) # Interest-only\n",
    "            POt.append(SPt+PPt) # Principal-only\n",
    "            disc_rate.append(Rf[n_m*t]) # discount rate\n",
    "        \n",
    "        pi = sum(pd.Series(Ct)*np.exp(-1*pd.Series(disc_rate)))\n",
    "        IOi = sum(pd.Series(IOt)*np.exp(-1*pd.Series(disc_rate)))\n",
    "        POi = sum(pd.Series(POt)*np.exp(-1*pd.Series(disc_rate)))\n",
    "        p.append(pi)\n",
    "        IO.append(IOi)\n",
    "        PO.append(POi)\n",
    "        \n",
    "    return np.mean(p),np.mean(IO),np.mean(PO)"
   ]
  }
 ],
 "metadata": {
  "kernelspec": {
   "display_name": "Python 3",
   "language": "python",
   "name": "python3"
  },
  "language_info": {
   "codemirror_mode": {
    "name": "ipython",
    "version": 3
   },
   "file_extension": ".py",
   "mimetype": "text/x-python",
   "name": "python",
   "nbconvert_exporter": "python",
   "pygments_lexer": "ipython3",
   "version": "3.8.8"
  }
 },
 "nbformat": 4,
 "nbformat_minor": 5
}
